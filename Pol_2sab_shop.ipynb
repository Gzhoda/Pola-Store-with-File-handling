{
 "cells": [
  {
   "cell_type": "code",
   "execution_count": 6,
   "id": "93d0813d",
   "metadata": {},
   "outputs": [
    {
     "name": "stdout",
     "output_type": "stream",
     "text": [
      "-------------------------------------------------------------\n",
      "Welcome To the Pola 2SAB STORE with unlimited 2SAB\n",
      "Enter the customer name mahmoud\n",
      "To buy the greatest 2sab, Press 1\n",
      "To Check out, Press 9\n",
      "enter your option  1\n",
      "-------------------------------------------------------------\n",
      "enter the size you want:(Press 9 to check out) Large\n",
      "How many would you like? 5\n",
      "enter the size you want:(Press 9 to check out) Large\n",
      "How many would you like? 2\n",
      "enter the size you want:(Press 9 to check out) Small\n",
      "How many would you like? 1\n",
      "enter the size you want:(Press 9 to check out) 9\n",
      "[' Customer           Large       Meduim       Small\\n', '                \\n', 'mahmoud           7           0           1\\n', 'Total Cost      675']\n"
     ]
    },
    {
     "ename": "KeyboardInterrupt",
     "evalue": "Interrupted by user",
     "output_type": "error",
     "traceback": [
      "\u001b[1;31m---------------------------------------------------------------------------\u001b[0m",
      "\u001b[1;31mKeyboardInterrupt\u001b[0m                         Traceback (most recent call last)",
      "Cell \u001b[1;32mIn [6], line 49\u001b[0m\n\u001b[0;32m     47\u001b[0m     \u001b[38;5;28mprint\u001b[39m(file\u001b[38;5;241m.\u001b[39mreadlines())\n\u001b[0;32m     48\u001b[0m     file\u001b[38;5;241m.\u001b[39mclose()\n\u001b[1;32m---> 49\u001b[0m     check \u001b[38;5;241m=\u001b[39m \u001b[38;5;28;43minput\u001b[39;49m\u001b[43m(\u001b[49m\u001b[38;5;124;43m\"\u001b[39;49m\u001b[38;5;124;43menter another number if there is another customer or press 9\u001b[39;49m\u001b[38;5;124;43m\"\u001b[39;49m\u001b[43m)\u001b[49m\n\u001b[0;32m     50\u001b[0m Grocery[\u001b[38;5;124m\"\u001b[39m\u001b[38;5;124mSmall\u001b[39m\u001b[38;5;124m\"\u001b[39m]\u001b[38;5;241m=\u001b[39m\u001b[38;5;241m0\u001b[39m\n\u001b[0;32m     51\u001b[0m Grocery[\u001b[38;5;124m\"\u001b[39m\u001b[38;5;124mMeduim\u001b[39m\u001b[38;5;124m\"\u001b[39m]\u001b[38;5;241m=\u001b[39m\u001b[38;5;241m0\u001b[39m\n",
      "File \u001b[1;32mD:\\Mahmoud_HardDRIVE\\lib\\site-packages\\ipykernel\\kernelbase.py:1177\u001b[0m, in \u001b[0;36mKernel.raw_input\u001b[1;34m(self, prompt)\u001b[0m\n\u001b[0;32m   1173\u001b[0m \u001b[38;5;28;01mif\u001b[39;00m \u001b[38;5;129;01mnot\u001b[39;00m \u001b[38;5;28mself\u001b[39m\u001b[38;5;241m.\u001b[39m_allow_stdin:\n\u001b[0;32m   1174\u001b[0m     \u001b[38;5;28;01mraise\u001b[39;00m StdinNotImplementedError(\n\u001b[0;32m   1175\u001b[0m         \u001b[38;5;124m\"\u001b[39m\u001b[38;5;124mraw_input was called, but this frontend does not support input requests.\u001b[39m\u001b[38;5;124m\"\u001b[39m\n\u001b[0;32m   1176\u001b[0m     )\n\u001b[1;32m-> 1177\u001b[0m \u001b[38;5;28;01mreturn\u001b[39;00m \u001b[38;5;28;43mself\u001b[39;49m\u001b[38;5;241;43m.\u001b[39;49m\u001b[43m_input_request\u001b[49m\u001b[43m(\u001b[49m\n\u001b[0;32m   1178\u001b[0m \u001b[43m    \u001b[49m\u001b[38;5;28;43mstr\u001b[39;49m\u001b[43m(\u001b[49m\u001b[43mprompt\u001b[49m\u001b[43m)\u001b[49m\u001b[43m,\u001b[49m\n\u001b[0;32m   1179\u001b[0m \u001b[43m    \u001b[49m\u001b[38;5;28;43mself\u001b[39;49m\u001b[38;5;241;43m.\u001b[39;49m\u001b[43m_parent_ident\u001b[49m\u001b[43m[\u001b[49m\u001b[38;5;124;43m\"\u001b[39;49m\u001b[38;5;124;43mshell\u001b[39;49m\u001b[38;5;124;43m\"\u001b[39;49m\u001b[43m]\u001b[49m\u001b[43m,\u001b[49m\n\u001b[0;32m   1180\u001b[0m \u001b[43m    \u001b[49m\u001b[38;5;28;43mself\u001b[39;49m\u001b[38;5;241;43m.\u001b[39;49m\u001b[43mget_parent\u001b[49m\u001b[43m(\u001b[49m\u001b[38;5;124;43m\"\u001b[39;49m\u001b[38;5;124;43mshell\u001b[39;49m\u001b[38;5;124;43m\"\u001b[39;49m\u001b[43m)\u001b[49m\u001b[43m,\u001b[49m\n\u001b[0;32m   1181\u001b[0m \u001b[43m    \u001b[49m\u001b[43mpassword\u001b[49m\u001b[38;5;241;43m=\u001b[39;49m\u001b[38;5;28;43;01mFalse\u001b[39;49;00m\u001b[43m,\u001b[49m\n\u001b[0;32m   1182\u001b[0m \u001b[43m\u001b[49m\u001b[43m)\u001b[49m\n",
      "File \u001b[1;32mD:\\Mahmoud_HardDRIVE\\lib\\site-packages\\ipykernel\\kernelbase.py:1219\u001b[0m, in \u001b[0;36mKernel._input_request\u001b[1;34m(self, prompt, ident, parent, password)\u001b[0m\n\u001b[0;32m   1216\u001b[0m             \u001b[38;5;28;01mbreak\u001b[39;00m\n\u001b[0;32m   1217\u001b[0m \u001b[38;5;28;01mexcept\u001b[39;00m \u001b[38;5;167;01mKeyboardInterrupt\u001b[39;00m:\n\u001b[0;32m   1218\u001b[0m     \u001b[38;5;66;03m# re-raise KeyboardInterrupt, to truncate traceback\u001b[39;00m\n\u001b[1;32m-> 1219\u001b[0m     \u001b[38;5;28;01mraise\u001b[39;00m \u001b[38;5;167;01mKeyboardInterrupt\u001b[39;00m(\u001b[38;5;124m\"\u001b[39m\u001b[38;5;124mInterrupted by user\u001b[39m\u001b[38;5;124m\"\u001b[39m) \u001b[38;5;28;01mfrom\u001b[39;00m \u001b[38;5;28mNone\u001b[39m\n\u001b[0;32m   1220\u001b[0m \u001b[38;5;28;01mexcept\u001b[39;00m \u001b[38;5;167;01mException\u001b[39;00m:\n\u001b[0;32m   1221\u001b[0m     \u001b[38;5;28mself\u001b[39m\u001b[38;5;241m.\u001b[39mlog\u001b[38;5;241m.\u001b[39mwarning(\u001b[38;5;124m\"\u001b[39m\u001b[38;5;124mInvalid Message:\u001b[39m\u001b[38;5;124m\"\u001b[39m, exc_info\u001b[38;5;241m=\u001b[39m\u001b[38;5;28;01mTrue\u001b[39;00m)\n",
      "\u001b[1;31mKeyboardInterrupt\u001b[0m: Interrupted by user"
     ]
    }
   ],
   "source": [
    "menu = {'Large': 90, 'Meduim': 60, 'Small': 45}\n",
    "Grocery = {'Large': 0, 'Meduim': 0, 'Small': 0}\n",
    " \n",
    "# the EVERYTHING STORE \n",
    "\n",
    "\n",
    "\n",
    "\n",
    "Total_cost=0\n",
    "check=0\n",
    "print(\"-------------------------------------------------------------\")\n",
    "print(\"Welcome To the Pola 2SAB STORE with unlimited 2SAB\")\n",
    "while (check != '9'):\n",
    "    name=input(\"Enter the customer name \")\n",
    "    print(\"To buy the greatest 2sab, Press 1\")\n",
    "    print(\"To Check out, Press 9\")\n",
    "    check = input(\"enter your option  \")\n",
    "    print(\"-------------------------------------------------------------\")\n",
    "    if check=='1' :\n",
    "        while (check!='9'):\n",
    "            check = input(\"enter the size you want:(Press 9 to check out) \")\n",
    "            if check == \"Small\":                        #Small\n",
    "                _2sab=int(input(\"How many would you like? \"))\n",
    "                Total_cost+=menu[\"Small\"]*_2sab\n",
    "                Grocery[\"Small\"]=Grocery[\"Small\"]+_2sab\n",
    "            elif check == \"Meduim\":                  #Meduim\n",
    "                _2sab=int(input(\"How many would you like? \"))\n",
    "                Total_cost+=menu[\"Meduim\"]*_2sab\n",
    "                Grocery[\"Meduim\"]=Grocery[\"Meduim\"]+_2sab\n",
    "            elif check == \"Large\":                  #Large\n",
    "                _2sab=int(input(\"How many would you like? \"))\n",
    "                Total_cost+=menu[\"Large\"]*_2sab\n",
    "                Grocery[\"Large\"]=Grocery[\"Large\"]+_2sab\n",
    "            elif check != '9':\n",
    "                print(\"you entered an invalid Option\")\n",
    "        \n",
    "    if check == '9':\n",
    "        reciept=''' Customer           Large       Meduim       Small\n",
    "                \n",
    "'''+name+'''           '''+str(Grocery[\"Large\"])+\"           \"+str(Grocery[\"Meduim\"])+\"           \"+str(Grocery[\"Small\"])+'''\n",
    "Total Cost      '''+str(Total_cost)\n",
    "                \n",
    "        file =open(\"Reciept.txt\",\"a+\")\n",
    "        file = open(\"Reciept.txt\",\"w\")\n",
    "        file.write(reciept)\n",
    "        file = open(\"Reciept.txt\",\"r\")\n",
    "        print(file.readlines())\n",
    "        file.close()\n",
    "        check = input(\"enter another number if there is another customer or press 9\")\n",
    "        Grocery[\"Small\"]=0\n",
    "        Grocery[\"Meduim\"]=0\n",
    "        Grocery[\"Large\"]=0 "
   ]
  },
  {
   "cell_type": "code",
   "execution_count": null,
   "id": "37f5bc0e",
   "metadata": {},
   "outputs": [],
   "source": [
    "#THE CALCULATOR"
   ]
  }
 ],
 "metadata": {
  "kernelspec": {
   "display_name": "Python 3 (ipykernel)",
   "language": "python",
   "name": "python3"
  },
  "language_info": {
   "codemirror_mode": {
    "name": "ipython",
    "version": 3
   },
   "file_extension": ".py",
   "mimetype": "text/x-python",
   "name": "python",
   "nbconvert_exporter": "python",
   "pygments_lexer": "ipython3",
   "version": "3.10.8"
  }
 },
 "nbformat": 4,
 "nbformat_minor": 5
}
